{
 "cells": [
  {
   "cell_type": "code",
   "execution_count": 2,
   "id": "7af704eb-a92c-4900-aac7-6a38a67ab64e",
   "metadata": {
    "tags": []
   },
   "outputs": [],
   "source": [
    "import os\n",
    "\n",
    "os.environ[\"CUDA_DEVICE_ORDER\"]=\"PCI_BUS_ID\"  \n",
    "os.environ[\"CUDA_VISIBLE_DEVICES\"]=\"0\"\n",
    "\n",
    "import warnings\n",
    "warnings.filterwarnings('ignore')\n",
    "from typing import Dict, List, Text\n",
    "from collections import namedtuple\n",
    "\n",
    "import tensorflow as tf\n",
    "import tensorflow_data_validation as tfdv\n",
    "import tensorflow_transform as tft\n",
    "\n",
    "import numpy as np\n",
    "import pandas as pd\n",
    "from predict import predict\n",
    "from train import transform_data, prepare_datasets, train\n",
    "\n",
    "# %matplotlib inline\n",
    "%config InlineBackend.figure_format = 'retina'\n",
    "%load_ext autoreload\n",
    "%autoreload"
   ]
  },
  {
   "cell_type": "markdown",
   "id": "21dfd0da-ac73-4124-93ef-72f5e030bb52",
   "metadata": {
    "tags": []
   },
   "source": [
    "## Test predict script"
   ]
  },
  {
   "cell_type": "code",
   "execution_count": 7,
   "id": "88492f1b-903a-4f9e-8bf7-d2eb1856cae5",
   "metadata": {
    "tags": []
   },
   "outputs": [
    {
     "name": "stdout",
     "output_type": "stream",
     "text": [
      "INFO:tensorflow:struct2tensor is not available.\n"
     ]
    },
    {
     "name": "stderr",
     "output_type": "stream",
     "text": [
      "INFO:tensorflow:struct2tensor is not available.\n"
     ]
    },
    {
     "name": "stdout",
     "output_type": "stream",
     "text": [
      "INFO:tensorflow:tensorflow_decision_forests is not available.\n"
     ]
    },
    {
     "name": "stderr",
     "output_type": "stream",
     "text": [
      "INFO:tensorflow:tensorflow_decision_forests is not available.\n"
     ]
    }
   ],
   "source": [
    "predict(data_path='./data/data_for_tfx/val.csv')"
   ]
  },
  {
   "cell_type": "markdown",
   "id": "6c23cbd6-2c5a-4e55-bd37-912908d6e54e",
   "metadata": {},
   "source": [
    "## Test train scripts"
   ]
  },
  {
   "cell_type": "code",
   "execution_count": 3,
   "id": "c1f6342b-d842-46c5-a126-ad877461b5cc",
   "metadata": {
    "tags": []
   },
   "outputs": [
    {
     "name": "stdout",
     "output_type": "stream",
     "text": [
      "running bdist_wheel\n",
      "running build\n",
      "running build_py\n",
      "creating build\n",
      "creating build/lib\n",
      "copying tf_pipeline.py -> build/lib\n",
      "copying run_train.py -> build/lib\n",
      "copying transform.py -> build/lib\n",
      "copying models.py -> build/lib\n",
      "copying predict.py -> build/lib\n",
      "copying run_predict.py -> build/lib\n",
      "copying train.py -> build/lib\n",
      "installing to /tmp/tmpk55wu_7f\n",
      "running install\n",
      "running install_lib\n",
      "copying build/lib/models.py -> /tmp/tmpk55wu_7f\n",
      "copying build/lib/transform.py -> /tmp/tmpk55wu_7f\n",
      "copying build/lib/run_train.py -> /tmp/tmpk55wu_7f\n",
      "copying build/lib/predict.py -> /tmp/tmpk55wu_7f\n",
      "copying build/lib/train.py -> /tmp/tmpk55wu_7f\n",
      "copying build/lib/run_predict.py -> /tmp/tmpk55wu_7f\n",
      "copying build/lib/tf_pipeline.py -> /tmp/tmpk55wu_7f\n",
      "running install_egg_info\n",
      "running egg_info\n",
      "creating tfx_user_code_Transform.egg-info\n",
      "writing tfx_user_code_Transform.egg-info/PKG-INFO\n",
      "writing dependency_links to tfx_user_code_Transform.egg-info/dependency_links.txt\n",
      "writing top-level names to tfx_user_code_Transform.egg-info/top_level.txt\n",
      "writing manifest file 'tfx_user_code_Transform.egg-info/SOURCES.txt'\n",
      "reading manifest file 'tfx_user_code_Transform.egg-info/SOURCES.txt'\n",
      "writing manifest file 'tfx_user_code_Transform.egg-info/SOURCES.txt'\n",
      "Copying tfx_user_code_Transform.egg-info to /tmp/tmpk55wu_7f/tfx_user_code_Transform-0.0+1aea2d72fa8e6dc1d12f71188c8d63070ca01ba3888fdeaa50032dcadbc6a83a-py3.9.egg-info\n",
      "running install_scripts\n",
      "creating /tmp/tmpk55wu_7f/tfx_user_code_Transform-0.0+1aea2d72fa8e6dc1d12f71188c8d63070ca01ba3888fdeaa50032dcadbc6a83a.dist-info/WHEEL\n",
      "creating '/tmp/tmp32zw48xj/tfx_user_code_Transform-0.0+1aea2d72fa8e6dc1d12f71188c8d63070ca01ba3888fdeaa50032dcadbc6a83a-py3-none-any.whl' and adding '/tmp/tmpk55wu_7f' to it\n",
      "adding 'models.py'\n",
      "adding 'predict.py'\n",
      "adding 'run_predict.py'\n",
      "adding 'run_train.py'\n",
      "adding 'tf_pipeline.py'\n",
      "adding 'train.py'\n",
      "adding 'transform.py'\n",
      "adding 'tfx_user_code_Transform-0.0+1aea2d72fa8e6dc1d12f71188c8d63070ca01ba3888fdeaa50032dcadbc6a83a.dist-info/METADATA'\n",
      "adding 'tfx_user_code_Transform-0.0+1aea2d72fa8e6dc1d12f71188c8d63070ca01ba3888fdeaa50032dcadbc6a83a.dist-info/WHEEL'\n",
      "adding 'tfx_user_code_Transform-0.0+1aea2d72fa8e6dc1d12f71188c8d63070ca01ba3888fdeaa50032dcadbc6a83a.dist-info/top_level.txt'\n",
      "adding 'tfx_user_code_Transform-0.0+1aea2d72fa8e6dc1d12f71188c8d63070ca01ba3888fdeaa50032dcadbc6a83a.dist-info/RECORD'\n",
      "removing /tmp/tmpk55wu_7f\n"
     ]
    },
    {
     "name": "stderr",
     "output_type": "stream",
     "text": [
      "/home/babych/miniconda3/envs/tfx_15/lib/python3.9/site-packages/setuptools/_distutils/cmd.py:66: SetuptoolsDeprecationWarning: setup.py install is deprecated.\n",
      "!!\n",
      "\n",
      "        ********************************************************************************\n",
      "        Please avoid running ``setup.py`` directly.\n",
      "        Instead, use pypa/build, pypa/installer or other\n",
      "        standards-based tools.\n",
      "\n",
      "        See https://blog.ganssle.io/articles/2021/10/setup-py-deprecated.html for details.\n",
      "        ********************************************************************************\n",
      "\n",
      "!!\n",
      "  self.initialize_options()\n",
      "WARNING: All log messages before absl::InitializeLog() is called are written to STDERR\n",
      "I0000 00:00:1721397834.560839    9220 config.cc:230] gRPC experiments enabled: call_status_override_on_cancellation, event_engine_dns, event_engine_listener, http2_stats_fix, monitoring_experiment, pick_first_new, trace_record_callops, work_serializer_clears_time_cache\n",
      "WARNING:apache_beam.runners.interactive.interactive_environment:Dependencies required for Interactive Beam PCollection visualization are not available, please use: `pip install apache-beam[interactive]` to install necessary dependencies to enable all data visualization features.\n"
     ]
    },
    {
     "data": {
      "application/javascript": [
       "\n",
       "        if (typeof window.interactive_beam_jquery == 'undefined') {\n",
       "          var jqueryScript = document.createElement('script');\n",
       "          jqueryScript.src = 'https://code.jquery.com/jquery-3.4.1.slim.min.js';\n",
       "          jqueryScript.type = 'text/javascript';\n",
       "          jqueryScript.onload = function() {\n",
       "            var datatableScript = document.createElement('script');\n",
       "            datatableScript.src = 'https://cdn.datatables.net/1.10.20/js/jquery.dataTables.min.js';\n",
       "            datatableScript.type = 'text/javascript';\n",
       "            datatableScript.onload = function() {\n",
       "              window.interactive_beam_jquery = jQuery.noConflict(true);\n",
       "              window.interactive_beam_jquery(document).ready(function($){\n",
       "                \n",
       "              });\n",
       "            }\n",
       "            document.head.appendChild(datatableScript);\n",
       "          };\n",
       "          document.head.appendChild(jqueryScript);\n",
       "        } else {\n",
       "          window.interactive_beam_jquery(document).ready(function($){\n",
       "            \n",
       "          });\n",
       "        }"
      ]
     },
     "metadata": {},
     "output_type": "display_data"
    },
    {
     "name": "stderr",
     "output_type": "stream",
     "text": [
      "WARNING:apache_beam.io.tfrecordio:Couldn't find python-snappy so the implementation of _TFRecordUtil._masked_crc32c is not as fast as it could be.\n",
      "WARNING:absl:ArtifactQuery.property_predicate is not supported.\n",
      "WARNING:absl:ArtifactQuery.property_predicate is not supported.\n",
      "WARNING:absl:ArtifactQuery.property_predicate is not supported.\n",
      "WARNING:absl:ArtifactQuery.property_predicate is not supported.\n",
      "I0000 00:00:1721397942.025197    9220 work_stealing_thread_pool.cc:320] WorkStealingThreadPoolImpl::PrepareFork\n",
      "I0000 00:00:1721397942.025738    9220 fork_posix.cc:77] Other threads are currently calling into gRPC, skipping fork() handlers\n"
     ]
    },
    {
     "name": "stdout",
     "output_type": "stream",
     "text": [
      "Looking in indexes: https://pypi.org/simple, https://pypi.ngc.nvidia.com\n",
      "Processing ./new_tfx/pipelines/transform/_wheels/tfx_user_code_Transform-0.0+1aea2d72fa8e6dc1d12f71188c8d63070ca01ba3888fdeaa50032dcadbc6a83a-py3-none-any.whl\n",
      "Installing collected packages: tfx-user-code-Transform\n",
      "Successfully installed tfx-user-code-Transform-0.0+1aea2d72fa8e6dc1d12f71188c8d63070ca01ba3888fdeaa50032dcadbc6a83a\n"
     ]
    },
    {
     "name": "stderr",
     "output_type": "stream",
     "text": [
      "I0000 00:00:1721397945.461801    9220 work_stealing_thread_pool.cc:320] WorkStealingThreadPoolImpl::PrepareFork\n",
      "I0000 00:00:1721397945.462523    9220 fork_posix.cc:77] Other threads are currently calling into gRPC, skipping fork() handlers\n"
     ]
    },
    {
     "name": "stdout",
     "output_type": "stream",
     "text": [
      "Looking in indexes: https://pypi.org/simple, https://pypi.ngc.nvidia.com\n",
      "Processing ./new_tfx/pipelines/transform/_wheels/tfx_user_code_Transform-0.0+1aea2d72fa8e6dc1d12f71188c8d63070ca01ba3888fdeaa50032dcadbc6a83a-py3-none-any.whl\n",
      "Installing collected packages: tfx-user-code-Transform\n",
      "Successfully installed tfx-user-code-Transform-0.0+1aea2d72fa8e6dc1d12f71188c8d63070ca01ba3888fdeaa50032dcadbc6a83a\n"
     ]
    },
    {
     "name": "stderr",
     "output_type": "stream",
     "text": [
      "I0000 00:00:1721397948.977513    9220 work_stealing_thread_pool.cc:320] WorkStealingThreadPoolImpl::PrepareFork\n",
      "I0000 00:00:1721397948.977967    9220 fork_posix.cc:77] Other threads are currently calling into gRPC, skipping fork() handlers\n"
     ]
    },
    {
     "name": "stdout",
     "output_type": "stream",
     "text": [
      "Looking in indexes: https://pypi.org/simple, https://pypi.ngc.nvidia.com\n",
      "Processing ./new_tfx/pipelines/transform/_wheels/tfx_user_code_Transform-0.0+1aea2d72fa8e6dc1d12f71188c8d63070ca01ba3888fdeaa50032dcadbc6a83a-py3-none-any.whl\n",
      "Installing collected packages: tfx-user-code-Transform\n",
      "Successfully installed tfx-user-code-Transform-0.0+1aea2d72fa8e6dc1d12f71188c8d63070ca01ba3888fdeaa50032dcadbc6a83a\n"
     ]
    },
    {
     "name": "stderr",
     "output_type": "stream",
     "text": [
      "2024-07-19 14:05:55.582603: W tensorflow/core/common_runtime/gpu/gpu_device.cc:2256] Cannot dlopen some GPU libraries. Please make sure the missing libraries mentioned above are installed properly if you would like to use GPU. Follow the guide at https://www.tensorflow.org/install/gpu for how to download and setup the required libraries for your platform.\n",
      "Skipping registering GPU devices...\n"
     ]
    },
    {
     "name": "stdout",
     "output_type": "stream",
     "text": [
      "INFO:tensorflow:Assets written to: ./new_tfx/pipelines/transform/Transform/transform_graph/4/.temp_path/tftransform_tmp/b39280ac39ee477b8dbb0e421c6436ec/assets\n"
     ]
    },
    {
     "name": "stderr",
     "output_type": "stream",
     "text": [
      "INFO:tensorflow:Assets written to: ./new_tfx/pipelines/transform/Transform/transform_graph/4/.temp_path/tftransform_tmp/b39280ac39ee477b8dbb0e421c6436ec/assets\n"
     ]
    },
    {
     "name": "stdout",
     "output_type": "stream",
     "text": [
      "INFO:tensorflow:struct2tensor is not available.\n"
     ]
    },
    {
     "name": "stderr",
     "output_type": "stream",
     "text": [
      "INFO:tensorflow:struct2tensor is not available.\n"
     ]
    },
    {
     "name": "stdout",
     "output_type": "stream",
     "text": [
      "INFO:tensorflow:tensorflow_decision_forests is not available.\n"
     ]
    },
    {
     "name": "stderr",
     "output_type": "stream",
     "text": [
      "INFO:tensorflow:tensorflow_decision_forests is not available.\n"
     ]
    },
    {
     "name": "stdout",
     "output_type": "stream",
     "text": [
      "INFO:tensorflow:tensorflow_text is not available.\n"
     ]
    },
    {
     "name": "stderr",
     "output_type": "stream",
     "text": [
      "INFO:tensorflow:tensorflow_text is not available.\n"
     ]
    },
    {
     "name": "stdout",
     "output_type": "stream",
     "text": [
      "INFO:tensorflow:Assets written to: ./new_tfx/pipelines/transform/Transform/transform_graph/4/.temp_path/tftransform_tmp/fb0d56f1db7e40b8978128f6c3edb207/assets\n"
     ]
    },
    {
     "name": "stderr",
     "output_type": "stream",
     "text": [
      "INFO:tensorflow:Assets written to: ./new_tfx/pipelines/transform/Transform/transform_graph/4/.temp_path/tftransform_tmp/fb0d56f1db7e40b8978128f6c3edb207/assets\n"
     ]
    },
    {
     "name": "stdout",
     "output_type": "stream",
     "text": [
      "INFO:tensorflow:struct2tensor is not available.\n"
     ]
    },
    {
     "name": "stderr",
     "output_type": "stream",
     "text": [
      "INFO:tensorflow:struct2tensor is not available.\n"
     ]
    },
    {
     "name": "stdout",
     "output_type": "stream",
     "text": [
      "INFO:tensorflow:tensorflow_decision_forests is not available.\n"
     ]
    },
    {
     "name": "stderr",
     "output_type": "stream",
     "text": [
      "INFO:tensorflow:tensorflow_decision_forests is not available.\n"
     ]
    },
    {
     "name": "stdout",
     "output_type": "stream",
     "text": [
      "INFO:tensorflow:tensorflow_text is not available.\n"
     ]
    },
    {
     "name": "stderr",
     "output_type": "stream",
     "text": [
      "INFO:tensorflow:tensorflow_text is not available.\n"
     ]
    },
    {
     "name": "stdout",
     "output_type": "stream",
     "text": [
      "INFO:tensorflow:struct2tensor is not available.\n"
     ]
    },
    {
     "name": "stderr",
     "output_type": "stream",
     "text": [
      "INFO:tensorflow:struct2tensor is not available.\n"
     ]
    },
    {
     "name": "stdout",
     "output_type": "stream",
     "text": [
      "INFO:tensorflow:tensorflow_decision_forests is not available.\n"
     ]
    },
    {
     "name": "stderr",
     "output_type": "stream",
     "text": [
      "INFO:tensorflow:tensorflow_decision_forests is not available.\n"
     ]
    },
    {
     "name": "stdout",
     "output_type": "stream",
     "text": [
      "INFO:tensorflow:tensorflow_text is not available.\n"
     ]
    },
    {
     "name": "stderr",
     "output_type": "stream",
     "text": [
      "INFO:tensorflow:tensorflow_text is not available.\n"
     ]
    }
   ],
   "source": [
    "transform_data('./data/train.csv')"
   ]
  },
  {
   "cell_type": "code",
   "execution_count": 20,
   "id": "87fb54d2-de22-4a67-8036-3d5ea62bd71b",
   "metadata": {
    "tags": []
   },
   "outputs": [],
   "source": [
    "train_ds, val_ds = prepare_datasets()"
   ]
  },
  {
   "cell_type": "code",
   "execution_count": 21,
   "id": "72de8434-7a9b-47c1-a2a5-a241c6971eb7",
   "metadata": {
    "tags": []
   },
   "outputs": [
    {
     "name": "stdout",
     "output_type": "stream",
     "text": [
      "Epoch 1/20\n",
      "   1440/Unknown - 53s 27ms/step - loss: 0.0296 - mean_absolute_error: 0.1077 - mean_absolute_percentage_error: 155.1277"
     ]
    },
    {
     "name": "stderr",
     "output_type": "stream",
     "text": [
      "2024-07-18 15:56:12.360928: I tensorflow/core/framework/local_rendezvous.cc:405] Local rendezvous recv item cancelled. Key hash: 7195236325327426675\n",
      "2024-07-18 15:56:12.360992: I tensorflow/core/framework/local_rendezvous.cc:405] Local rendezvous recv item cancelled. Key hash: 1332706088445012302\n",
      "2024-07-18 15:56:12.361005: I tensorflow/core/framework/local_rendezvous.cc:405] Local rendezvous recv item cancelled. Key hash: 14817875434513525936\n",
      "2024-07-18 15:56:12.361016: I tensorflow/core/framework/local_rendezvous.cc:405] Local rendezvous recv item cancelled. Key hash: 11453330847726804704\n"
     ]
    },
    {
     "name": "stdout",
     "output_type": "stream",
     "text": [
      "\n",
      "Epoch 1: val_mean_absolute_percentage_error improved from inf to 77.54285, saving model to ./checkpoints/new_model_epoch-01_val_mean_absolute_percentage_error-77.54285.h5\n",
      "1440/1440 [==============================] - 57s 30ms/step - loss: 0.0296 - mean_absolute_error: 0.1077 - mean_absolute_percentage_error: 155.1277 - val_loss: 0.0072 - val_mean_absolute_error: 0.0710 - val_mean_absolute_percentage_error: 77.5428\n",
      "Epoch 2/20\n",
      "1439/1440 [============================>.] - ETA: 0s - loss: 0.0065 - mean_absolute_error: 0.0640 - mean_absolute_percentage_error: 77.2210\n",
      "Epoch 2: val_mean_absolute_percentage_error improved from 77.54285 to 58.64634, saving model to ./checkpoints/new_model_epoch-02_val_mean_absolute_percentage_error-58.64634.h5\n",
      "1440/1440 [==============================] - 44s 30ms/step - loss: 0.0065 - mean_absolute_error: 0.0640 - mean_absolute_percentage_error: 77.3692 - val_loss: 0.0038 - val_mean_absolute_error: 0.0476 - val_mean_absolute_percentage_error: 58.6463\n",
      "Epoch 3/20\n",
      "1440/1440 [==============================] - ETA: 0s - loss: 0.0056 - mean_absolute_error: 0.0590 - mean_absolute_percentage_error: 66.0385\n",
      "Epoch 3: val_mean_absolute_percentage_error improved from 58.64634 to 43.24840, saving model to ./checkpoints/new_model_epoch-03_val_mean_absolute_percentage_error-43.24840.h5\n",
      "1440/1440 [==============================] - 42s 29ms/step - loss: 0.0056 - mean_absolute_error: 0.0590 - mean_absolute_percentage_error: 66.0385 - val_loss: 0.0017 - val_mean_absolute_error: 0.0301 - val_mean_absolute_percentage_error: 43.2484\n",
      "Epoch 4/20\n",
      "1440/1440 [==============================] - ETA: 0s - loss: 0.0051 - mean_absolute_error: 0.0560 - mean_absolute_percentage_error: 67.1169\n",
      "Epoch 4: val_mean_absolute_percentage_error did not improve from 43.24840\n",
      "1440/1440 [==============================] - 44s 31ms/step - loss: 0.0051 - mean_absolute_error: 0.0560 - mean_absolute_percentage_error: 67.1169 - val_loss: 0.0017 - val_mean_absolute_error: 0.0325 - val_mean_absolute_percentage_error: 46.6775\n",
      "Epoch 5/20\n",
      "1438/1440 [============================>.] - ETA: 0s - loss: 0.0047 - mean_absolute_error: 0.0537 - mean_absolute_percentage_error: 64.0199\n",
      "Epoch 5: val_mean_absolute_percentage_error improved from 43.24840 to 39.52303, saving model to ./checkpoints/new_model_epoch-05_val_mean_absolute_percentage_error-39.52303.h5\n",
      "1440/1440 [==============================] - 41s 29ms/step - loss: 0.0047 - mean_absolute_error: 0.0537 - mean_absolute_percentage_error: 64.0840 - val_loss: 7.8954e-04 - val_mean_absolute_error: 0.0216 - val_mean_absolute_percentage_error: 39.5230\n",
      "Epoch 6/20\n",
      "1440/1440 [==============================] - ETA: 0s - loss: 0.0044 - mean_absolute_error: 0.0519 - mean_absolute_percentage_error: 58.9306\n",
      "Epoch 6: val_mean_absolute_percentage_error improved from 39.52303 to 38.64653, saving model to ./checkpoints/new_model_epoch-06_val_mean_absolute_percentage_error-38.64653.h5\n",
      "1440/1440 [==============================] - 45s 31ms/step - loss: 0.0044 - mean_absolute_error: 0.0519 - mean_absolute_percentage_error: 58.9306 - val_loss: 7.4225e-04 - val_mean_absolute_error: 0.0203 - val_mean_absolute_percentage_error: 38.6465\n",
      "Epoch 7/20\n",
      "1439/1440 [============================>.] - ETA: 0s - loss: 0.0041 - mean_absolute_error: 0.0503 - mean_absolute_percentage_error: 57.0622\n",
      "Epoch 7: val_mean_absolute_percentage_error did not improve from 38.64653\n",
      "1440/1440 [==============================] - 48s 33ms/step - loss: 0.0041 - mean_absolute_error: 0.0503 - mean_absolute_percentage_error: 57.1612 - val_loss: 0.0015 - val_mean_absolute_error: 0.0352 - val_mean_absolute_percentage_error: 46.8546\n",
      "Epoch 8/20\n",
      "1439/1440 [============================>.] - ETA: 0s - loss: 0.0036 - mean_absolute_error: 0.0473 - mean_absolute_percentage_error: 51.2136\n",
      "Epoch 8: val_mean_absolute_percentage_error improved from 38.64653 to 28.17002, saving model to ./checkpoints/new_model_epoch-08_val_mean_absolute_percentage_error-28.17002.h5\n",
      "1440/1440 [==============================] - 41s 28ms/step - loss: 0.0036 - mean_absolute_error: 0.0473 - mean_absolute_percentage_error: 51.2595 - val_loss: 9.6236e-04 - val_mean_absolute_error: 0.0265 - val_mean_absolute_percentage_error: 28.1700\n",
      "Epoch 9/20\n",
      "1439/1440 [============================>.] - ETA: 0s - loss: 0.0034 - mean_absolute_error: 0.0455 - mean_absolute_percentage_error: 48.7774\n",
      "Epoch 9: val_mean_absolute_percentage_error improved from 28.17002 to 23.04373, saving model to ./checkpoints/new_model_epoch-09_val_mean_absolute_percentage_error-23.04373.h5\n",
      "1440/1440 [==============================] - 46s 32ms/step - loss: 0.0034 - mean_absolute_error: 0.0455 - mean_absolute_percentage_error: 48.8242 - val_loss: 0.0011 - val_mean_absolute_error: 0.0273 - val_mean_absolute_percentage_error: 23.0437\n",
      "Epoch 10/20\n",
      "1439/1440 [============================>.] - ETA: 0s - loss: 0.0033 - mean_absolute_error: 0.0449 - mean_absolute_percentage_error: 47.2695\n",
      "Epoch 10: val_mean_absolute_percentage_error improved from 23.04373 to 17.93995, saving model to ./checkpoints/new_model_epoch-10_val_mean_absolute_percentage_error-17.93995.h5\n",
      "1440/1440 [==============================] - 44s 30ms/step - loss: 0.0033 - mean_absolute_error: 0.0449 - mean_absolute_percentage_error: 47.3572 - val_loss: 9.3591e-04 - val_mean_absolute_error: 0.0256 - val_mean_absolute_percentage_error: 17.9400\n",
      "Epoch 11/20\n",
      "1440/1440 [==============================] - ETA: 0s - loss: 0.0032 - mean_absolute_error: 0.0442 - mean_absolute_percentage_error: 46.4350\n",
      "Epoch 11: val_mean_absolute_percentage_error did not improve from 17.93995\n",
      "1440/1440 [==============================] - 41s 28ms/step - loss: 0.0032 - mean_absolute_error: 0.0442 - mean_absolute_percentage_error: 46.4350 - val_loss: 0.0011 - val_mean_absolute_error: 0.0260 - val_mean_absolute_percentage_error: 22.3334\n",
      "Epoch 12/20\n",
      "1439/1440 [============================>.] - ETA: 0s - loss: 0.0031 - mean_absolute_error: 0.0437 - mean_absolute_percentage_error: 45.9336\n",
      "Epoch 12: val_mean_absolute_percentage_error did not improve from 17.93995\n",
      "1440/1440 [==============================] - 44s 31ms/step - loss: 0.0031 - mean_absolute_error: 0.0437 - mean_absolute_percentage_error: 46.0051 - val_loss: 0.0013 - val_mean_absolute_error: 0.0278 - val_mean_absolute_percentage_error: 23.2745\n",
      "Epoch 13/20\n",
      "1440/1440 [==============================] - ETA: 0s - loss: 0.0030 - mean_absolute_error: 0.0432 - mean_absolute_percentage_error: 45.5642\n",
      "Epoch 13: val_mean_absolute_percentage_error did not improve from 17.93995\n",
      "1440/1440 [==============================] - 42s 29ms/step - loss: 0.0030 - mean_absolute_error: 0.0432 - mean_absolute_percentage_error: 45.5642 - val_loss: 0.0014 - val_mean_absolute_error: 0.0298 - val_mean_absolute_percentage_error: 30.0481\n",
      "Epoch 14/20\n",
      "1440/1440 [==============================] - ETA: 0s - loss: 0.0030 - mean_absolute_error: 0.0428 - mean_absolute_percentage_error: 45.2949\n",
      "Epoch 14: val_mean_absolute_percentage_error did not improve from 17.93995\n",
      "1440/1440 [==============================] - 43s 30ms/step - loss: 0.0030 - mean_absolute_error: 0.0428 - mean_absolute_percentage_error: 45.2949 - val_loss: 0.0014 - val_mean_absolute_error: 0.0303 - val_mean_absolute_percentage_error: 35.2192\n",
      "Epoch 15/20\n",
      "1439/1440 [============================>.] - ETA: 0s - loss: 0.0029 - mean_absolute_error: 0.0425 - mean_absolute_percentage_error: 45.0280\n",
      "Epoch 15: val_mean_absolute_percentage_error did not improve from 17.93995\n",
      "1440/1440 [==============================] - 44s 30ms/step - loss: 0.0029 - mean_absolute_error: 0.0425 - mean_absolute_percentage_error: 45.1408 - val_loss: 0.0015 - val_mean_absolute_error: 0.0320 - val_mean_absolute_percentage_error: 38.8266\n",
      "Epoch 16/20\n",
      "1440/1440 [==============================] - ETA: 0s - loss: 0.0029 - mean_absolute_error: 0.0422 - mean_absolute_percentage_error: 44.8960\n",
      "Epoch 16: val_mean_absolute_percentage_error did not improve from 17.93995\n",
      "1440/1440 [==============================] - 45s 31ms/step - loss: 0.0029 - mean_absolute_error: 0.0422 - mean_absolute_percentage_error: 44.8960 - val_loss: 0.0017 - val_mean_absolute_error: 0.0337 - val_mean_absolute_percentage_error: 41.5451\n",
      "Epoch 17/20\n",
      "1440/1440 [==============================] - ETA: 0s - loss: 0.0029 - mean_absolute_error: 0.0420 - mean_absolute_percentage_error: 44.9077\n",
      "Epoch 17: val_mean_absolute_percentage_error did not improve from 17.93995\n",
      "1440/1440 [==============================] - 44s 31ms/step - loss: 0.0029 - mean_absolute_error: 0.0420 - mean_absolute_percentage_error: 44.9077 - val_loss: 0.0020 - val_mean_absolute_error: 0.0364 - val_mean_absolute_percentage_error: 43.2265\n",
      "Epoch 18/20\n",
      "1440/1440 [==============================] - ETA: 0s - loss: 0.0028 - mean_absolute_error: 0.0418 - mean_absolute_percentage_error: 44.7548\n",
      "Epoch 18: val_mean_absolute_percentage_error did not improve from 17.93995\n",
      "1440/1440 [==============================] - 42s 29ms/step - loss: 0.0028 - mean_absolute_error: 0.0418 - mean_absolute_percentage_error: 44.7548 - val_loss: 0.0020 - val_mean_absolute_error: 0.0367 - val_mean_absolute_percentage_error: 44.9136\n",
      "Epoch 19/20\n",
      "1440/1440 [==============================] - ETA: 0s - loss: 0.0028 - mean_absolute_error: 0.0417 - mean_absolute_percentage_error: 44.2878\n",
      "Epoch 19: val_mean_absolute_percentage_error did not improve from 17.93995\n",
      "1440/1440 [==============================] - 42s 29ms/step - loss: 0.0028 - mean_absolute_error: 0.0417 - mean_absolute_percentage_error: 44.2878 - val_loss: 0.0024 - val_mean_absolute_error: 0.0399 - val_mean_absolute_percentage_error: 46.4391\n",
      "Epoch 20/20\n",
      "1440/1440 [==============================] - ETA: 0s - loss: 0.0028 - mean_absolute_error: 0.0415 - mean_absolute_percentage_error: 44.2226\n",
      "Epoch 20: val_mean_absolute_percentage_error did not improve from 17.93995\n",
      "1440/1440 [==============================] - 43s 30ms/step - loss: 0.0028 - mean_absolute_error: 0.0415 - mean_absolute_percentage_error: 44.2226 - val_loss: 0.0025 - val_mean_absolute_error: 0.0406 - val_mean_absolute_percentage_error: 46.3974\n",
      "INFO:tensorflow:Unsupported signature for serialization: ((TensorSpec(shape=(28, 10), dtype=tf.float32, name='gradient'), <tensorflow.python.framework.func_graph.UnknownArgument object at 0x7f4fac5dfeb0>, 139976743587152), {}).\n"
     ]
    },
    {
     "name": "stderr",
     "output_type": "stream",
     "text": [
      "INFO:tensorflow:Unsupported signature for serialization: ((TensorSpec(shape=(28, 10), dtype=tf.float32, name='gradient'), <tensorflow.python.framework.func_graph.UnknownArgument object at 0x7f4fac5dfeb0>, 139976743587152), {}).\n"
     ]
    },
    {
     "name": "stdout",
     "output_type": "stream",
     "text": [
      "INFO:tensorflow:Unsupported signature for serialization: ((TensorSpec(shape=(10,), dtype=tf.float32, name='gradient'), <tensorflow.python.framework.func_graph.UnknownArgument object at 0x7f4fac444df0>, 139975603586752), {}).\n"
     ]
    },
    {
     "name": "stderr",
     "output_type": "stream",
     "text": [
      "INFO:tensorflow:Unsupported signature for serialization: ((TensorSpec(shape=(10,), dtype=tf.float32, name='gradient'), <tensorflow.python.framework.func_graph.UnknownArgument object at 0x7f4fac444df0>, 139975603586752), {}).\n"
     ]
    },
    {
     "name": "stdout",
     "output_type": "stream",
     "text": [
      "INFO:tensorflow:Unsupported signature for serialization: ((TensorSpec(shape=(10,), dtype=tf.float32, name='gradient'), <tensorflow.python.framework.func_graph.UnknownArgument object at 0x7f4fac445420>, 139971325466000), {}).\n"
     ]
    },
    {
     "name": "stderr",
     "output_type": "stream",
     "text": [
      "INFO:tensorflow:Unsupported signature for serialization: ((TensorSpec(shape=(10,), dtype=tf.float32, name='gradient'), <tensorflow.python.framework.func_graph.UnknownArgument object at 0x7f4fac445420>, 139971325466000), {}).\n"
     ]
    },
    {
     "name": "stdout",
     "output_type": "stream",
     "text": [
      "INFO:tensorflow:Unsupported signature for serialization: ((TensorSpec(shape=(10,), dtype=tf.float32, name='gradient'), <tensorflow.python.framework.func_graph.UnknownArgument object at 0x7f4fac4475e0>, 139971325473200), {}).\n"
     ]
    },
    {
     "name": "stderr",
     "output_type": "stream",
     "text": [
      "INFO:tensorflow:Unsupported signature for serialization: ((TensorSpec(shape=(10,), dtype=tf.float32, name='gradient'), <tensorflow.python.framework.func_graph.UnknownArgument object at 0x7f4fac4475e0>, 139971325473200), {}).\n"
     ]
    },
    {
     "name": "stdout",
     "output_type": "stream",
     "text": [
      "INFO:tensorflow:Unsupported signature for serialization: ((TensorSpec(shape=(10, 1), dtype=tf.float32, name='gradient'), <tensorflow.python.framework.func_graph.UnknownArgument object at 0x7f4fac4455d0>, 139971082927952), {}).\n"
     ]
    },
    {
     "name": "stderr",
     "output_type": "stream",
     "text": [
      "INFO:tensorflow:Unsupported signature for serialization: ((TensorSpec(shape=(10, 1), dtype=tf.float32, name='gradient'), <tensorflow.python.framework.func_graph.UnknownArgument object at 0x7f4fac4455d0>, 139971082927952), {}).\n"
     ]
    },
    {
     "name": "stdout",
     "output_type": "stream",
     "text": [
      "INFO:tensorflow:Unsupported signature for serialization: ((TensorSpec(shape=(1,), dtype=tf.float32, name='gradient'), <tensorflow.python.framework.func_graph.UnknownArgument object at 0x7f4fac3039d0>, 139971082927792), {}).\n"
     ]
    },
    {
     "name": "stderr",
     "output_type": "stream",
     "text": [
      "INFO:tensorflow:Unsupported signature for serialization: ((TensorSpec(shape=(1,), dtype=tf.float32, name='gradient'), <tensorflow.python.framework.func_graph.UnknownArgument object at 0x7f4fac3039d0>, 139971082927792), {}).\n"
     ]
    },
    {
     "name": "stdout",
     "output_type": "stream",
     "text": [
      "INFO:tensorflow:Unsupported signature for serialization: ((TensorSpec(shape=(28, 10), dtype=tf.float32, name='gradient'), <tensorflow.python.framework.func_graph.UnknownArgument object at 0x7f4fac5dfeb0>, 139976743587152), {}).\n"
     ]
    },
    {
     "name": "stderr",
     "output_type": "stream",
     "text": [
      "INFO:tensorflow:Unsupported signature for serialization: ((TensorSpec(shape=(28, 10), dtype=tf.float32, name='gradient'), <tensorflow.python.framework.func_graph.UnknownArgument object at 0x7f4fac5dfeb0>, 139976743587152), {}).\n"
     ]
    },
    {
     "name": "stdout",
     "output_type": "stream",
     "text": [
      "INFO:tensorflow:Unsupported signature for serialization: ((TensorSpec(shape=(10,), dtype=tf.float32, name='gradient'), <tensorflow.python.framework.func_graph.UnknownArgument object at 0x7f4fac444df0>, 139975603586752), {}).\n"
     ]
    },
    {
     "name": "stderr",
     "output_type": "stream",
     "text": [
      "INFO:tensorflow:Unsupported signature for serialization: ((TensorSpec(shape=(10,), dtype=tf.float32, name='gradient'), <tensorflow.python.framework.func_graph.UnknownArgument object at 0x7f4fac444df0>, 139975603586752), {}).\n"
     ]
    },
    {
     "name": "stdout",
     "output_type": "stream",
     "text": [
      "INFO:tensorflow:Unsupported signature for serialization: ((TensorSpec(shape=(10,), dtype=tf.float32, name='gradient'), <tensorflow.python.framework.func_graph.UnknownArgument object at 0x7f4fac445420>, 139971325466000), {}).\n"
     ]
    },
    {
     "name": "stderr",
     "output_type": "stream",
     "text": [
      "INFO:tensorflow:Unsupported signature for serialization: ((TensorSpec(shape=(10,), dtype=tf.float32, name='gradient'), <tensorflow.python.framework.func_graph.UnknownArgument object at 0x7f4fac445420>, 139971325466000), {}).\n"
     ]
    },
    {
     "name": "stdout",
     "output_type": "stream",
     "text": [
      "INFO:tensorflow:Unsupported signature for serialization: ((TensorSpec(shape=(10,), dtype=tf.float32, name='gradient'), <tensorflow.python.framework.func_graph.UnknownArgument object at 0x7f4fac4475e0>, 139971325473200), {}).\n"
     ]
    },
    {
     "name": "stderr",
     "output_type": "stream",
     "text": [
      "INFO:tensorflow:Unsupported signature for serialization: ((TensorSpec(shape=(10,), dtype=tf.float32, name='gradient'), <tensorflow.python.framework.func_graph.UnknownArgument object at 0x7f4fac4475e0>, 139971325473200), {}).\n"
     ]
    },
    {
     "name": "stdout",
     "output_type": "stream",
     "text": [
      "INFO:tensorflow:Unsupported signature for serialization: ((TensorSpec(shape=(10, 1), dtype=tf.float32, name='gradient'), <tensorflow.python.framework.func_graph.UnknownArgument object at 0x7f4fac4455d0>, 139971082927952), {}).\n"
     ]
    },
    {
     "name": "stderr",
     "output_type": "stream",
     "text": [
      "INFO:tensorflow:Unsupported signature for serialization: ((TensorSpec(shape=(10, 1), dtype=tf.float32, name='gradient'), <tensorflow.python.framework.func_graph.UnknownArgument object at 0x7f4fac4455d0>, 139971082927952), {}).\n"
     ]
    },
    {
     "name": "stdout",
     "output_type": "stream",
     "text": [
      "INFO:tensorflow:Unsupported signature for serialization: ((TensorSpec(shape=(1,), dtype=tf.float32, name='gradient'), <tensorflow.python.framework.func_graph.UnknownArgument object at 0x7f4fac3039d0>, 139971082927792), {}).\n"
     ]
    },
    {
     "name": "stderr",
     "output_type": "stream",
     "text": [
      "INFO:tensorflow:Unsupported signature for serialization: ((TensorSpec(shape=(1,), dtype=tf.float32, name='gradient'), <tensorflow.python.framework.func_graph.UnknownArgument object at 0x7f4fac3039d0>, 139971082927792), {}).\n"
     ]
    },
    {
     "name": "stdout",
     "output_type": "stream",
     "text": [
      "INFO:tensorflow:Assets written to: new_model/assets\n"
     ]
    },
    {
     "name": "stderr",
     "output_type": "stream",
     "text": [
      "INFO:tensorflow:Assets written to: new_model/assets\n"
     ]
    }
   ],
   "source": [
    "train(train_ds, val_ds)"
   ]
  },
  {
   "cell_type": "code",
   "execution_count": 19,
   "id": "3f3e1845-a51e-41c0-a485-349abead2498",
   "metadata": {
    "tags": []
   },
   "outputs": [
    {
     "name": "stdout",
     "output_type": "stream",
     "text": [
      "INFO:tensorflow:struct2tensor is not available.\n"
     ]
    },
    {
     "name": "stderr",
     "output_type": "stream",
     "text": [
      "INFO:tensorflow:struct2tensor is not available.\n"
     ]
    },
    {
     "name": "stdout",
     "output_type": "stream",
     "text": [
      "INFO:tensorflow:tensorflow_decision_forests is not available.\n"
     ]
    },
    {
     "name": "stderr",
     "output_type": "stream",
     "text": [
      "INFO:tensorflow:tensorflow_decision_forests is not available.\n"
     ]
    }
   ],
   "source": [
    "predict(data_path='./data_for_tfx/val.csv')"
   ]
  },
  {
   "cell_type": "code",
   "execution_count": null,
   "id": "935f8918-d588-4d01-977a-7376cf5146dd",
   "metadata": {},
   "outputs": [],
   "source": []
  }
 ],
 "metadata": {
  "kernelspec": {
   "display_name": "Python 3 (ipykernel)",
   "language": "python",
   "name": "python3"
  },
  "language_info": {
   "codemirror_mode": {
    "name": "ipython",
    "version": 3
   },
   "file_extension": ".py",
   "mimetype": "text/x-python",
   "name": "python",
   "nbconvert_exporter": "python",
   "pygments_lexer": "ipython3",
   "version": "3.9.19"
  }
 },
 "nbformat": 4,
 "nbformat_minor": 5
}
