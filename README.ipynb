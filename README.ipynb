{
 "cells": [
  {
   "cell_type": "code",
   "execution_count": 2,
   "id": "f9ffdd22-3b47-4bba-b378-1544effde020",
   "metadata": {
    "tags": []
   },
   "outputs": [],
   "source": [
    "import numpy as np\n",
    "from typing import List\n",
    "from abc import ABC, abstractmethod"
   ]
  },
  {
   "cell_type": "markdown",
   "id": "656c151c-33b9-4b6a-a1cb-607838ad3461",
   "metadata": {},
   "source": [
    "## 0. Setup"
   ]
  },
  {
   "cell_type": "markdown",
   "id": "dcdac491-79b4-4c34-a2f5-e902ad6d68ae",
   "metadata": {},
   "source": [
    "I used TFX package to make EDA and feature transformation. It is a powerful tool to automate ML pipelines and build a preprocessing layer which is saved as a submodel. \n",
    "\n",
    "You can setup conda environment like this: \n",
    "\n",
    "```\n",
    "conda create -n tfx_pipeline python=3.8\n",
    "conda activate tfx_pipeline\n",
    "pip --default-timeout=5000 --use-deprecated=legacy-resolver install tfx  scikit-learn\n",
    "```\n",
    "\n",
    "Or you can use the freezed pip list from *requirements.txt* with python 3.8 or 3.9." 
   ]
  },
  {
   "cell_type": "markdown",
   "id": "952ca17f-0a9f-4b4c-bfe5-1ae35f670706",
   "metadata": {},
   "source": [
    "## 1. Counting Islands"
   ]
  },
  {
   "cell_type": "code",
   "execution_count": 8,
   "id": "c9eb1730-72c1-4092-a59f-0f8ab0ee4c16",
   "metadata": {
    "tags": []
   },
   "outputs": [],
   "source": [
    "class IslandsCounter:\n",
    "    def __call__(self, grid: List[List[int]]) -> int:\n",
    "        visited = set()\n",
    "        res = 0\n",
    "        N = len(grid)\n",
    "        M = len(grid[0])\n",
    "        for n in range(N):\n",
    "            for m in range(M):\n",
    "                if grid[n][m] == 0 or (n, m) in visited:\n",
    "                    continue\n",
    "                else:\n",
    "                    res += 1\n",
    "                    que = []\n",
    "                    visited.add((n, m))\n",
    "                    que.append((n, m))\n",
    "                    while que:\n",
    "                        a, b = que.pop()\n",
    "                        for i, j in [(a - 1, b), (a + 1, b ), (a, b + 1), (a, b - 1)]:\n",
    "                            if -1 < i < N and -1 < j < M and \\\n",
    "                                grid[i][j] == 1 and (i, j) not in visited:\n",
    "                                visited.add((i, j))\n",
    "                                que.append((i, j))\n",
    "        return res"
   ]
  },
  {
   "cell_type": "code",
   "execution_count": 16,
   "id": "263be833-a08f-4ca6-8228-c99c5efb8938",
   "metadata": {
    "tags": []
   },
   "outputs": [
    {
     "name": "stdout",
     "output_type": "stream",
     "text": [
      "2\n",
      "3\n",
      "2\n"
     ]
    }
   ],
   "source": [
    "tests = [[[0, 1, 0], \n",
    "          [0, 0, 0], \n",
    "          [0, 1, 1]], \n",
    "         [[0, 0, 0, 1], \n",
    "          [0, 0, 1, 0],\n",
    "          [0, 1, 0, 0]],\n",
    "         [[0, 0, 0, 1],\n",
    "          [0, 0, 1, 1],\n",
    "          [0, 1, 0, 1]]\n",
    "        ]\n",
    "\n",
    "counter = IslandsCounter()\n",
    "\n",
    "for grid in tests: \n",
    "    print(counter(grid))"
   ]
  },
  {
   "cell_type": "markdown",
   "id": "0cf13f1c-34d7-4127-9b7c-e5ca1d36bfec",
   "metadata": {},
   "source": [
    "## 2. Regression on the tabular data"
   ]
  },
  {
   "cell_type": "markdown",
   "id": "81a0a07a-b62b-4453-9cd9-b2d9f14fc325",
   "metadata": {},
   "source": [
    "#### 1. Run train script. The default parameter for --train_data is './data/train.csv'.  Results will be saved in the results.csv file."
   ]
  },
  {
   "cell_type": "code",
   "execution_count": 4,
   "id": "224ae6ec-ada1-4ad9-b393-5ecf9cbab58a",
   "metadata": {},
   "outputs": [
    {
     "name": "stdout",
     "output_type": "stream",
     "text": [
      "2024-07-19 13:47:46.116956: I external/local_tsl/tsl/cuda/cudart_stub.cc:31] Could not find cuda drivers on your machine, GPU will not be used.\n",
      "2024-07-19 13:47:46.175369: E external/local_xla/xla/stream_executor/cuda/cuda_dnn.cc:9261] Unable to register cuDNN factory: Attempting to register factory for plugin cuDNN when one has already been registered\n",
      "2024-07-19 13:47:46.175417: E external/local_xla/xla/stream_executor/cuda/cuda_fft.cc:607] Unable to register cuFFT factory: Attempting to register factory for plugin cuFFT when one has already been registered\n",
      "2024-07-19 13:47:46.176852: E external/local_xla/xla/stream_executor/cuda/cuda_blas.cc:1515] Unable to register cuBLAS factory: Attempting to register factory for plugin cuBLAS when one has already been registered\n",
      "2024-07-19 13:47:46.185130: I external/local_tsl/tsl/cuda/cudart_stub.cc:31] Could not find cuda drivers on your machine, GPU will not be used.\n",
      "2024-07-19 13:47:47.328027: W tensorflow/compiler/tf2tensorrt/utils/py_utils.cc:38] TF-TRT Warning: Could not find TensorRT\n",
      "running bdist_wheel\n",
      "running build\n",
      "running build_py\n",
      "creating build\n",
      "creating build/lib\n",
      "copying tf_pipeline.py -> build/lib\n",
      "copying run_train.py -> build/lib\n",
      "copying transform.py -> build/lib\n",
      "copying models.py -> build/lib\n",
      "copying predict.py -> build/lib\n",
      "copying run_predict.py -> build/lib\n",
      "copying train.py -> build/lib\n",
      "/home/babych/miniconda3/envs/tfx_15/lib/python3.9/site-packages/setuptools/_distutils/cmd.py:66: SetuptoolsDeprecationWarning: setup.py install is deprecated.\n",
      "!!\n",
      "\n",
      "        ********************************************************************************\n",
      "        Please avoid running ``setup.py`` directly.\n",
      "        Instead, use pypa/build, pypa/installer or other\n",
      "        standards-based tools.\n",
      "\n",
      "        See https://blog.ganssle.io/articles/2021/10/setup-py-deprecated.html for details.\n",
      "        ********************************************************************************\n",
      "\n",
      "!!\n",
      "  self.initialize_options()\n",
      "installing to /tmp/tmp5j3o2wnj\n",
      "running install\n",
      "running install_lib\n",
      "copying build/lib/models.py -> /tmp/tmp5j3o2wnj\n",
      "copying build/lib/transform.py -> /tmp/tmp5j3o2wnj\n",
      "copying build/lib/run_train.py -> /tmp/tmp5j3o2wnj\n",
      "copying build/lib/predict.py -> /tmp/tmp5j3o2wnj\n",
      "copying build/lib/train.py -> /tmp/tmp5j3o2wnj\n",
      "copying build/lib/run_predict.py -> /tmp/tmp5j3o2wnj\n",
      "copying build/lib/tf_pipeline.py -> /tmp/tmp5j3o2wnj\n",
      "running install_egg_info\n",
      "running egg_info\n",
      "creating tfx_user_code_Transform.egg-info\n",
      "writing tfx_user_code_Transform.egg-info/PKG-INFO\n",
      "writing dependency_links to tfx_user_code_Transform.egg-info/dependency_links.txt\n",
      "writing top-level names to tfx_user_code_Transform.egg-info/top_level.txt\n",
      "writing manifest file 'tfx_user_code_Transform.egg-info/SOURCES.txt'\n",
      "reading manifest file 'tfx_user_code_Transform.egg-info/SOURCES.txt'\n",
      "writing manifest file 'tfx_user_code_Transform.egg-info/SOURCES.txt'\n",
      "Copying tfx_user_code_Transform.egg-info to /tmp/tmp5j3o2wnj/tfx_user_code_Transform-0.0+dbb64aad00d85a7bbe12839f960fd1bf8513e08900136df1283b0b342942ca3e-py3.9.egg-info\n",
      "running install_scripts\n",
      "creating /tmp/tmp5j3o2wnj/tfx_user_code_Transform-0.0+dbb64aad00d85a7bbe12839f960fd1bf8513e08900136df1283b0b342942ca3e.dist-info/WHEEL\n",
      "creating '/tmp/tmpymm2_rt1/tfx_user_code_Transform-0.0+dbb64aad00d85a7bbe12839f960fd1bf8513e08900136df1283b0b342942ca3e-py3-none-any.whl' and adding '/tmp/tmp5j3o2wnj' to it\n",
      "adding 'models.py'\n",
      "adding 'predict.py'\n",
      "adding 'run_predict.py'\n",
      "adding 'run_train.py'\n",
      "adding 'tf_pipeline.py'\n",
      "adding 'train.py'\n",
      "adding 'transform.py'\n",
      "adding 'tfx_user_code_Transform-0.0+dbb64aad00d85a7bbe12839f960fd1bf8513e08900136df1283b0b342942ca3e.dist-info/METADATA'\n",
      "adding 'tfx_user_code_Transform-0.0+dbb64aad00d85a7bbe12839f960fd1bf8513e08900136df1283b0b342942ca3e.dist-info/WHEEL'\n",
      "adding 'tfx_user_code_Transform-0.0+dbb64aad00d85a7bbe12839f960fd1bf8513e08900136df1283b0b342942ca3e.dist-info/top_level.txt'\n",
      "adding 'tfx_user_code_Transform-0.0+dbb64aad00d85a7bbe12839f960fd1bf8513e08900136df1283b0b342942ca3e.dist-info/RECORD'\n",
      "removing /tmp/tmp5j3o2wnj\n",
      "WARNING: All log messages before absl::InitializeLog() is called are written to STDERR\n",
      "I0000 00:00:1721396877.246182    4722 config.cc:230] gRPC experiments enabled: call_status_override_on_cancellation, event_engine_dns, event_engine_listener, http2_stats_fix, monitoring_experiment, pick_first_new, trace_record_callops, work_serializer_clears_time_cache\n",
      "WARNING:apache_beam.io.tfrecordio:Couldn't find python-snappy so the implementation of _TFRecordUtil._masked_crc32c is not as fast as it could be.\n",
      "WARNING:absl:ArtifactQuery.property_predicate is not supported.\n",
      "WARNING:absl:ArtifactQuery.property_predicate is not supported.\n",
      "WARNING:absl:ArtifactQuery.property_predicate is not supported.\n",
      "WARNING:absl:ArtifactQuery.property_predicate is not supported.\n",
      "I0000 00:00:1721396986.484936    4722 work_stealing_thread_pool.cc:320] WorkStealingThreadPoolImpl::PrepareFork\n",
      "I0000 00:00:1721396986.504193    4722 fork_posix.cc:77] Other threads are currently calling into gRPC, skipping fork() handlers\n",
      "Looking in indexes: https://pypi.org/simple, https://pypi.ngc.nvidia.com\n",
      "Processing ./new_tfx/pipelines/transform/_wheels/tfx_user_code_Transform-0.0+dbb64aad00d85a7bbe12839f960fd1bf8513e08900136df1283b0b342942ca3e-py3-none-any.whl\n",
      "Installing collected packages: tfx-user-code-Transform\n",
      "Successfully installed tfx-user-code-Transform-0.0+dbb64aad00d85a7bbe12839f960fd1bf8513e08900136df1283b0b342942ca3e\n",
      "I0000 00:00:1721396989.816221    4722 work_stealing_thread_pool.cc:320] WorkStealingThreadPoolImpl::PrepareFork\n",
      "I0000 00:00:1721396989.816882    4722 fork_posix.cc:77] Other threads are currently calling into gRPC, skipping fork() handlers\n",
      "Looking in indexes: https://pypi.org/simple, https://pypi.ngc.nvidia.com\n",
      "Processing ./new_tfx/pipelines/transform/_wheels/tfx_user_code_Transform-0.0+dbb64aad00d85a7bbe12839f960fd1bf8513e08900136df1283b0b342942ca3e-py3-none-any.whl\n",
      "Installing collected packages: tfx-user-code-Transform\n",
      "Successfully installed tfx-user-code-Transform-0.0+dbb64aad00d85a7bbe12839f960fd1bf8513e08900136df1283b0b342942ca3e\n",
      "I0000 00:00:1721396993.042926    4722 work_stealing_thread_pool.cc:320] WorkStealingThreadPoolImpl::PrepareFork\n",
      "I0000 00:00:1721396993.043666    4722 fork_posix.cc:77] Other threads are currently calling into gRPC, skipping fork() handlers\n",
      "Looking in indexes: https://pypi.org/simple, https://pypi.ngc.nvidia.com\n",
      "Processing ./new_tfx/pipelines/transform/_wheels/tfx_user_code_Transform-0.0+dbb64aad00d85a7bbe12839f960fd1bf8513e08900136df1283b0b342942ca3e-py3-none-any.whl\n",
      "Installing collected packages: tfx-user-code-Transform\n",
      "Successfully installed tfx-user-code-Transform-0.0+dbb64aad00d85a7bbe12839f960fd1bf8513e08900136df1283b0b342942ca3e\n",
      "2024-07-19 13:49:59.151583: W tensorflow/core/common_runtime/gpu/gpu_device.cc:2256] Cannot dlopen some GPU libraries. Please make sure the missing libraries mentioned above are installed properly if you would like to use GPU. Follow the guide at https://www.tensorflow.org/install/gpu for how to download and setup the required libraries for your platform.\n",
      "Skipping registering GPU devices...\n",
      "Epoch 1/20\n",
      "   1437/Unknown - 15s 6ms/step - loss: 0.0293 - mean_absolute_error: 0.1102 - mean_absolute_percentage_error: 134.0682\n",
      "Epoch 1: val_mean_absolute_percentage_error improved from inf to 81.85577, saving model to ./checkpoints/new_model_epoch-01_val_mean_absolute_percentage_error-81.85577.h5\n",
      "1440/1440 [==============================] - 18s 8ms/step - loss: 0.0292 - mean_absolute_error: 0.1101 - mean_absolute_percentage_error: 134.2248 - val_loss: 0.0019 - val_mean_absolute_error: 0.0338 - val_mean_absolute_percentage_error: 81.8558\n",
      "Epoch 2/20\n",
      "1432/1440 [============================>.] - ETA: 0s - loss: 0.0079 - mean_absolute_error: 0.0709 - mean_absolute_percentage_error: 90.7399\n",
      "Epoch 2: val_mean_absolute_percentage_error improved from 81.85577 to 72.07832, saving model to ./checkpoints/new_model_epoch-02_val_mean_absolute_percentage_error-72.07832.h5\n",
      "1440/1440 [==============================] - 8s 6ms/step - loss: 0.0079 - mean_absolute_error: 0.0708 - mean_absolute_percentage_error: 90.6631 - val_loss: 0.0031 - val_mean_absolute_error: 0.0483 - val_mean_absolute_percentage_error: 72.0783\n",
      "Epoch 3/20\n",
      "1432/1440 [============================>.] - ETA: 0s - loss: 0.0057 - mean_absolute_error: 0.0600 - mean_absolute_percentage_error: 68.2025\n",
      "Epoch 3: val_mean_absolute_percentage_error did not improve from 72.07832\n",
      "1440/1440 [==============================] - 8s 6ms/step - loss: 0.0057 - mean_absolute_error: 0.0599 - mean_absolute_percentage_error: 68.1682 - val_loss: 0.0156 - val_mean_absolute_error: 0.1088 - val_mean_absolute_percentage_error: 98.2647\n",
      "Epoch 4/20\n",
      "1430/1440 [============================>.] - ETA: 0s - loss: 0.0051 - mean_absolute_error: 0.0563 - mean_absolute_percentage_error: 59.3991\n",
      "Epoch 4: val_mean_absolute_percentage_error improved from 72.07832 to 66.74020, saving model to ./checkpoints/new_model_epoch-04_val_mean_absolute_percentage_error-66.74020.h5\n",
      "1440/1440 [==============================] - 9s 7ms/step - loss: 0.0051 - mean_absolute_error: 0.0562 - mean_absolute_percentage_error: 59.3409 - val_loss: 0.0126 - val_mean_absolute_error: 0.1031 - val_mean_absolute_percentage_error: 66.7402\n",
      "Epoch 5/20\n",
      "1436/1440 [============================>.] - ETA: 0s - loss: 0.0046 - mean_absolute_error: 0.0533 - mean_absolute_percentage_error: 53.1534\n",
      "Epoch 5: val_mean_absolute_percentage_error improved from 66.74020 to 59.47778, saving model to ./checkpoints/new_model_epoch-05_val_mean_absolute_percentage_error-59.47778.h5\n",
      "1440/1440 [==============================] - 8s 6ms/step - loss: 0.0046 - mean_absolute_error: 0.0533 - mean_absolute_percentage_error: 53.1692 - val_loss: 0.0058 - val_mean_absolute_error: 0.0660 - val_mean_absolute_percentage_error: 59.4778\n",
      "Epoch 6/20\n",
      "1431/1440 [============================>.] - ETA: 0s - loss: 0.0041 - mean_absolute_error: 0.0505 - mean_absolute_percentage_error: 53.8949\n",
      "Epoch 6: val_mean_absolute_percentage_error improved from 59.47778 to 45.69706, saving model to ./checkpoints/new_model_epoch-06_val_mean_absolute_percentage_error-45.69706.h5\n",
      "1440/1440 [==============================] - 8s 6ms/step - loss: 0.0041 - mean_absolute_error: 0.0504 - mean_absolute_percentage_error: 53.8463 - val_loss: 0.0027 - val_mean_absolute_error: 0.0458 - val_mean_absolute_percentage_error: 45.6971\n",
      "Epoch 7/20\n",
      "1432/1440 [============================>.] - ETA: 0s - loss: 0.0039 - mean_absolute_error: 0.0491 - mean_absolute_percentage_error: 50.3697\n",
      "Epoch 7: val_mean_absolute_percentage_error improved from 45.69706 to 25.74183, saving model to ./checkpoints/new_model_epoch-07_val_mean_absolute_percentage_error-25.74183.h5\n",
      "1440/1440 [==============================] - 9s 6ms/step - loss: 0.0039 - mean_absolute_error: 0.0490 - mean_absolute_percentage_error: 50.3275 - val_loss: 0.0011 - val_mean_absolute_error: 0.0292 - val_mean_absolute_percentage_error: 25.7418\n",
      "Epoch 8/20\n",
      "1434/1440 [============================>.] - ETA: 0s - loss: 0.0037 - mean_absolute_error: 0.0477 - mean_absolute_percentage_error: 46.0202\n",
      "Epoch 8: val_mean_absolute_percentage_error did not improve from 25.74183\n",
      "1440/1440 [==============================] - 9s 6ms/step - loss: 0.0037 - mean_absolute_error: 0.0476 - mean_absolute_percentage_error: 46.0759 - val_loss: 3.2493e-04 - val_mean_absolute_error: 0.0148 - val_mean_absolute_percentage_error: 33.5382\n",
      "Epoch 9/20\n",
      "1440/1440 [==============================] - ETA: 0s - loss: 0.0035 - mean_absolute_error: 0.0468 - mean_absolute_percentage_error: 46.2986\n",
      "Epoch 9: val_mean_absolute_percentage_error did not improve from 25.74183\n",
      "1440/1440 [==============================] - 9s 6ms/step - loss: 0.0035 - mean_absolute_error: 0.0468 - mean_absolute_percentage_error: 46.2986 - val_loss: 0.0058 - val_mean_absolute_error: 0.0574 - val_mean_absolute_percentage_error: 35.1044\n",
      "Epoch 10/20\n",
      "1437/1440 [============================>.] - ETA: 0s - loss: 0.0034 - mean_absolute_error: 0.0461 - mean_absolute_percentage_error: 45.3674\n",
      "Epoch 10: val_mean_absolute_percentage_error did not improve from 25.74183\n",
      "1440/1440 [==============================] - 10s 7ms/step - loss: 0.0034 - mean_absolute_error: 0.0461 - mean_absolute_percentage_error: 45.5281 - val_loss: 4.1020e-04 - val_mean_absolute_error: 0.0163 - val_mean_absolute_percentage_error: 25.9749\n",
      "Epoch 11/20\n",
      "1440/1440 [==============================] - ETA: 0s - loss: 0.0033 - mean_absolute_error: 0.0451 - mean_absolute_percentage_error: 46.2620\n",
      "Epoch 11: val_mean_absolute_percentage_error did not improve from 25.74183\n",
      "1440/1440 [==============================] - 9s 6ms/step - loss: 0.0033 - mean_absolute_error: 0.0451 - mean_absolute_percentage_error: 46.2620 - val_loss: 6.1554e-04 - val_mean_absolute_error: 0.0200 - val_mean_absolute_percentage_error: 29.8034\n",
      "Epoch 12/20\n",
      "1436/1440 [============================>.] - ETA: 0s - loss: 0.0032 - mean_absolute_error: 0.0443 - mean_absolute_percentage_error: 46.7660\n",
      "Epoch 12: val_mean_absolute_percentage_error did not improve from 25.74183\n",
      "1440/1440 [==============================] - 9s 6ms/step - loss: 0.0032 - mean_absolute_error: 0.0443 - mean_absolute_percentage_error: 46.9381 - val_loss: 8.7780e-04 - val_mean_absolute_error: 0.0252 - val_mean_absolute_percentage_error: 36.7933\n",
      "Epoch 13/20\n",
      "1435/1440 [============================>.] - ETA: 0s - loss: 0.0030 - mean_absolute_error: 0.0433 - mean_absolute_percentage_error: 46.4020\n",
      "Epoch 13: val_mean_absolute_percentage_error did not improve from 25.74183\n",
      "1440/1440 [==============================] - 10s 7ms/step - loss: 0.0030 - mean_absolute_error: 0.0433 - mean_absolute_percentage_error: 46.5320 - val_loss: 7.5279e-04 - val_mean_absolute_error: 0.0230 - val_mean_absolute_percentage_error: 45.7249\n",
      "Epoch 14/20\n",
      "1438/1440 [============================>.] - ETA: 0s - loss: 0.0029 - mean_absolute_error: 0.0425 - mean_absolute_percentage_error: 45.4240\n",
      "Epoch 14: val_mean_absolute_percentage_error did not improve from 25.74183\n",
      "1440/1440 [==============================] - 9s 6ms/step - loss: 0.0029 - mean_absolute_error: 0.0425 - mean_absolute_percentage_error: 45.6104 - val_loss: 6.6053e-04 - val_mean_absolute_error: 0.0222 - val_mean_absolute_percentage_error: 45.2783\n",
      "Epoch 15/20\n",
      "1436/1440 [============================>.] - ETA: 0s - loss: 0.0029 - mean_absolute_error: 0.0420 - mean_absolute_percentage_error: 44.3113\n",
      "Epoch 15: val_mean_absolute_percentage_error did not improve from 25.74183\n",
      "1440/1440 [==============================] - 9s 6ms/step - loss: 0.0029 - mean_absolute_error: 0.0420 - mean_absolute_percentage_error: 44.4398 - val_loss: 8.7020e-04 - val_mean_absolute_error: 0.0241 - val_mean_absolute_percentage_error: 41.8247\n",
      "Epoch 16/20\n",
      "1434/1440 [============================>.] - ETA: 0s - loss: 0.0028 - mean_absolute_error: 0.0416 - mean_absolute_percentage_error: 44.2423\n",
      "Epoch 16: val_mean_absolute_percentage_error did not improve from 25.74183\n",
      "1440/1440 [==============================] - 10s 7ms/step - loss: 0.0028 - mean_absolute_error: 0.0416 - mean_absolute_percentage_error: 44.3308 - val_loss: 0.0013 - val_mean_absolute_error: 0.0279 - val_mean_absolute_percentage_error: 43.8335\n",
      "Epoch 17/20\n",
      "1439/1440 [============================>.] - ETA: 0s - loss: 0.0028 - mean_absolute_error: 0.0412 - mean_absolute_percentage_error: 43.9577\n",
      "Epoch 17: val_mean_absolute_percentage_error did not improve from 25.74183\n",
      "1440/1440 [==============================] - 9s 6ms/step - loss: 0.0028 - mean_absolute_error: 0.0412 - mean_absolute_percentage_error: 44.1735 - val_loss: 0.0012 - val_mean_absolute_error: 0.0302 - val_mean_absolute_percentage_error: 41.7283\n",
      "Epoch 18/20\n",
      "1433/1440 [============================>.] - ETA: 0s - loss: 0.0027 - mean_absolute_error: 0.0408 - mean_absolute_percentage_error: 44.6616\n",
      "Epoch 18: val_mean_absolute_percentage_error did not improve from 25.74183\n",
      "1440/1440 [==============================] - 9s 6ms/step - loss: 0.0027 - mean_absolute_error: 0.0408 - mean_absolute_percentage_error: 44.7337 - val_loss: 0.0014 - val_mean_absolute_error: 0.0310 - val_mean_absolute_percentage_error: 40.3355\n",
      "Epoch 19/20\n",
      "1433/1440 [============================>.] - ETA: 0s - loss: 0.0027 - mean_absolute_error: 0.0405 - mean_absolute_percentage_error: 43.5944\n",
      "Epoch 19: val_mean_absolute_percentage_error did not improve from 25.74183\n",
      "1440/1440 [==============================] - 9s 6ms/step - loss: 0.0027 - mean_absolute_error: 0.0405 - mean_absolute_percentage_error: 43.6969 - val_loss: 0.0014 - val_mean_absolute_error: 0.0285 - val_mean_absolute_percentage_error: 41.0890\n",
      "Epoch 20/20\n",
      "1438/1440 [============================>.] - ETA: 0s - loss: 0.0026 - mean_absolute_error: 0.0400 - mean_absolute_percentage_error: 42.0649\n",
      "Epoch 20: val_mean_absolute_percentage_error did not improve from 25.74183\n",
      "1440/1440 [==============================] - 9s 6ms/step - loss: 0.0026 - mean_absolute_error: 0.0400 - mean_absolute_percentage_error: 42.2892 - val_loss: 9.8530e-04 - val_mean_absolute_error: 0.0246 - val_mean_absolute_percentage_error: 40.2640\n"
     ]
    }
   ],
   "source": [
    "! python run_train.py"
   ]
  },
  {
   "cell_type": "markdown",
   "id": "7711f449-e8a8-4330-bfbd-2a396824c3eb",
   "metadata": {
    "tags": []
   },
   "source": [
    "#### 2. After run_train script is finished you may use new_model and new_tfx preprocessing layer to get fresh predictions."
   ]
  },
  {
   "cell_type": "code",
   "execution_count": 6,
   "id": "8cca65af-945a-4dc8-820a-f857145ec09e",
   "metadata": {
    "tags": []
   },
   "outputs": [
    {
     "name": "stdout",
     "output_type": "stream",
     "text": [
      "2024-07-19 13:54:53.083816: I external/local_tsl/tsl/cuda/cudart_stub.cc:31] Could not find cuda drivers on your machine, GPU will not be used.\n",
      "2024-07-19 13:54:53.128243: E external/local_xla/xla/stream_executor/cuda/cuda_dnn.cc:9261] Unable to register cuDNN factory: Attempting to register factory for plugin cuDNN when one has already been registered\n",
      "2024-07-19 13:54:53.128277: E external/local_xla/xla/stream_executor/cuda/cuda_fft.cc:607] Unable to register cuFFT factory: Attempting to register factory for plugin cuFFT when one has already been registered\n",
      "2024-07-19 13:54:53.129792: E external/local_xla/xla/stream_executor/cuda/cuda_blas.cc:1515] Unable to register cuBLAS factory: Attempting to register factory for plugin cuBLAS when one has already been registered\n",
      "2024-07-19 13:54:53.137028: I external/local_tsl/tsl/cuda/cudart_stub.cc:31] Could not find cuda drivers on your machine, GPU will not be used.\n",
      "2024-07-19 13:54:54.207615: W tensorflow/compiler/tf2tensorrt/utils/py_utils.cc:38] TF-TRT Warning: Could not find TensorRT\n",
      "2024-07-19 13:54:57.757452: W tensorflow/core/common_runtime/gpu/gpu_device.cc:2256] Cannot dlopen some GPU libraries. Please make sure the missing libraries mentioned above are installed properly if you would like to use GPU. Follow the guide at https://www.tensorflow.org/install/gpu for how to download and setup the required libraries for your platform.\n",
      "Skipping registering GPU devices...\n"
     ]
    }
   ],
   "source": [
    "! python run_predict.py --data_path='./data_for_tfx/val.csv' --model_path='./new_model' --tfx_root='./new_tfx'"
   ]
  },
  {
   "cell_type": "markdown",
   "id": "0f7f038d-9448-4bd5-a689-656de610de5f",
   "metadata": {},
   "source": [
    "#### 3. Or you can try cached_model and cached_tfx preprocessing layer which gave me the smallest mean_abs_percentage error."
   ]
  },
  {
   "cell_type": "code",
   "execution_count": 7,
   "id": "1b5f892e-cc97-4c2a-ba83-68a982db8ccd",
   "metadata": {
    "tags": []
   },
   "outputs": [
    {
     "name": "stdout",
     "output_type": "stream",
     "text": [
      "2024-07-19 13:55:28.459589: I external/local_tsl/tsl/cuda/cudart_stub.cc:31] Could not find cuda drivers on your machine, GPU will not be used.\n",
      "2024-07-19 13:55:28.502828: E external/local_xla/xla/stream_executor/cuda/cuda_dnn.cc:9261] Unable to register cuDNN factory: Attempting to register factory for plugin cuDNN when one has already been registered\n",
      "2024-07-19 13:55:28.502875: E external/local_xla/xla/stream_executor/cuda/cuda_fft.cc:607] Unable to register cuFFT factory: Attempting to register factory for plugin cuFFT when one has already been registered\n",
      "2024-07-19 13:55:28.504334: E external/local_xla/xla/stream_executor/cuda/cuda_blas.cc:1515] Unable to register cuBLAS factory: Attempting to register factory for plugin cuBLAS when one has already been registered\n",
      "2024-07-19 13:55:28.511527: I external/local_tsl/tsl/cuda/cudart_stub.cc:31] Could not find cuda drivers on your machine, GPU will not be used.\n",
      "2024-07-19 13:55:29.563093: W tensorflow/compiler/tf2tensorrt/utils/py_utils.cc:38] TF-TRT Warning: Could not find TensorRT\n",
      "2024-07-19 13:55:33.079390: W tensorflow/core/common_runtime/gpu/gpu_device.cc:2256] Cannot dlopen some GPU libraries. Please make sure the missing libraries mentioned above are installed properly if you would like to use GPU. Follow the guide at https://www.tensorflow.org/install/gpu for how to download and setup the required libraries for your platform.\n",
      "Skipping registering GPU devices...\n"
     ]
    }
   ],
   "source": [
    "! python run_predict.py --data_path='./data_for_tfx/val.csv' --model_path='./cached_model' --tfx_root='./cached_tfx'"
   ]
  },
  {
   "cell_type": "markdown",
   "id": "3c7bf1d7-64e8-4505-9eaf-16c81828e82e",
   "metadata": {
    "tags": []
   },
   "source": [
    "#### 4. Results of hidden_test.csv is stored in the hidden_test_results.csv. I renamed results.csv for these inputs by hands. "
   ]
  },
  {
   "cell_type": "code",
   "execution_count": 3,
   "id": "459e38bd-9bee-4dfa-9306-c46a2ae277de",
   "metadata": {
    "tags": []
   },
   "outputs": [
    {
     "name": "stdout",
     "output_type": "stream",
     "text": [
      "2024-07-19 13:46:40.230935: I external/local_tsl/tsl/cuda/cudart_stub.cc:31] Could not find cuda drivers on your machine, GPU will not be used.\n",
      "2024-07-19 13:46:40.286414: E external/local_xla/xla/stream_executor/cuda/cuda_dnn.cc:9261] Unable to register cuDNN factory: Attempting to register factory for plugin cuDNN when one has already been registered\n",
      "2024-07-19 13:46:40.286452: E external/local_xla/xla/stream_executor/cuda/cuda_fft.cc:607] Unable to register cuFFT factory: Attempting to register factory for plugin cuFFT when one has already been registered\n",
      "2024-07-19 13:46:40.288074: E external/local_xla/xla/stream_executor/cuda/cuda_blas.cc:1515] Unable to register cuBLAS factory: Attempting to register factory for plugin cuBLAS when one has already been registered\n",
      "2024-07-19 13:46:40.296638: I external/local_tsl/tsl/cuda/cudart_stub.cc:31] Could not find cuda drivers on your machine, GPU will not be used.\n",
      "2024-07-19 13:46:41.363879: W tensorflow/compiler/tf2tensorrt/utils/py_utils.cc:38] TF-TRT Warning: Could not find TensorRT\n",
      "2024-07-19 13:46:45.135314: W tensorflow/core/common_runtime/gpu/gpu_device.cc:2256] Cannot dlopen some GPU libraries. Please make sure the missing libraries mentioned above are installed properly if you would like to use GPU. Follow the guide at https://www.tensorflow.org/install/gpu for how to download and setup the required libraries for your platform.\n",
      "Skipping registering GPU devices...\n"
     ]
    }
   ],
   "source": [
    "! python run_predict.py --data_path='./data/hidden_test.csv' --model_path='./cached_model' --tfx_root='./cached_tfx'"
   ]
  },
  {
   "cell_type": "markdown",
   "id": "724cf469-af4e-487f-9b2f-f4d61ef206af",
   "metadata": {},
   "source": [
    "#### 5. Further researches\n",
    "\n",
    "I have finished the base model prototype. What could be done next? \n",
    "\n",
    "- Find optimal hyperparameters for the training process: learning rate, decay rate, epoch count, and gradient descent algorithms.\n",
    "- Neural architecture search: Make the net deeper and change batch__norm_block inner and output width. \n",
    "\n",
    "Both steps could be done via Katib (standalone or as a part of Kubeflow / Vertex). It is possible to configs the training job and experiment for this microservice. The main advantage of Katib is the ability to run several training jobs simultaneously and automate hyperparameters search via Bayesian optimization. \n",
    "\n",
    "- After we find the most optimal learning and net hyperparameters we can add Train, ModelEstimation, and Pusher components to the transform pipeline and create continuous building and training pipelines if it is possible to get a continuous amount of labeled data for the training process. We can run such pipelines locally, but the preferable way is to use Kubeflow pipelines, cause we can monitor data, and model shifts via artefacts visualization easily. \n",
    "\n",
    "- If we want an inference service for this model we can use KServe. It can help leverage GPU batch computation by creating a request queue sidecar service which will generate batches from atomic requests of users. "
   ]
  },
  {
   "cell_type": "markdown",
   "id": "430aed63-e16d-4d07-bb4d-a33ef613cdb5",
   "metadata": {},
   "source": [
    "## 3. MNIST classifier. OOP"
   ]
  },
  {
   "cell_type": "code",
   "execution_count": 18,
   "id": "0eb43d01-606c-49da-adaa-cae568b76a99",
   "metadata": {
    "tags": []
   },
   "outputs": [],
   "source": [
    "# Define the interface\n",
    "class DigitClassificationInterface(ABC):\n",
    "    \n",
    "    def __init__(self, shape:tuple):\n",
    "        self.shape = shape\n",
    "    \n",
    "    @abstractmethod\n",
    "    def predict(self, image: np.ndarray) -> int:\n",
    "        pass\n",
    "    \n",
    "    def preprocess(self, image: np.ndarray) -> np.ndarray:\n",
    "        if type(image) != np.ndarray:\n",
    "            raise TypeError(\"image must be a numpy array\")\n",
    "            \n",
    "        prep_image = self._preprocess(image)\n",
    "        \n",
    "        if prep_image.shape != self.shape:\n",
    "            raise ValueError(f\"image shape must match {self.shape}, but got {prep_image.shape}\")\n",
    "            \n",
    "        return prep_image\n",
    "            \n",
    "    \n",
    "    @abstractmethod\n",
    "    def _preprocess(self, image: np.ndarray) -> int:\n",
    "        pass\n",
    "    \n",
    "\n",
    "# CNN Model implementation\n",
    "class CNNModel(DigitClassificationInterface):\n",
    "    \n",
    "    def __init__(self):\n",
    "        super().__init__((28, 28, 1))\n",
    "    \n",
    "    def _preprocess(self, image: np.ndarray) -> np.ndarray:\n",
    "        return image\n",
    "    \n",
    "    def predict(self, image: np.ndarray) -> int:\n",
    "        # For demonstration, let's return a random number as placeholder\n",
    "        return np.random.randint(0, 10)\n",
    "\n",
    "# Random Forest Model\n",
    "class RFModel(DigitClassificationInterface):\n",
    "    def __init__(self):\n",
    "        # Initialize the random forest model\n",
    "        super().__init__((784,))\n",
    "    \n",
    "    def _preprocess(self, image:np.ndarray) -> np.ndarray:\n",
    "        return image.flatten()\n",
    "\n",
    "    def predict(self, image: np.ndarray) -> int:\n",
    "        return np.random.randint(0, 10)\n",
    "\n",
    "# Random Model\n",
    "class RandomModel(DigitClassificationInterface):\n",
    "    \n",
    "    def __init__(self):\n",
    "        super().__init__((10, 10, 1))\n",
    "    \n",
    "    def _preprocess(self, image:np.ndarray) -> np.ndarray:\n",
    "        return image[9:19, 9:19]\n",
    "    \n",
    "    def predict(self, image: np.ndarray) -> int:\n",
    "        # Here we can ignore the input and return a random value\n",
    "        return np.random.randint(0, 10)\n",
    "\n",
    "# Digit Classifier\n",
    "class DigitClassifier:\n",
    "    def __init__(self, algorithm: str):\n",
    "        if algorithm == 'cnn':\n",
    "            self.model = CNNModel()\n",
    "        elif algorithm == 'rf':\n",
    "            self.model = RFModel()\n",
    "        elif algorithm == 'rand':\n",
    "            self.model = RandomModel()\n",
    "        else:\n",
    "            raise ValueError(f\"Unsupported algorithm: {algorithm}\")\n",
    "            \n",
    "    def train(self, x:np.ndarray, labels:np.ndarray):\n",
    "        raise NotImplementedError()\n",
    "\n",
    "    def predict(self, image: np.ndarray) -> int:\n",
    "        prepared_image = self.model.preprocess(image)\n",
    "        return self.model.predict(prepared_image)"
   ]
  },
  {
   "cell_type": "code",
   "execution_count": 19,
   "id": "8c31f491-b80f-4390-b437-871ed439f7e8",
   "metadata": {
    "tags": []
   },
   "outputs": [
    {
     "name": "stdout",
     "output_type": "stream",
     "text": [
      "CNN Prediction: 9\n",
      "Random Forest Prediction: 8\n",
      "Random Model Prediction: 1\n"
     ]
    }
   ],
   "source": [
    "# Create a random 28x28 image\n",
    "image = np.random.rand(28, 28, 1)\n",
    "\n",
    "# Create a DigitClassifier with a specific algorithm\n",
    "classifier = DigitClassifier(algorithm='cnn')\n",
    "prediction = classifier.predict(image)\n",
    "print(f\"CNN Prediction: {prediction}\")\n",
    "\n",
    "classifier = DigitClassifier(algorithm='rf')\n",
    "prediction = classifier.predict(image)\n",
    "print(f\"Random Forest Prediction: {prediction}\")\n",
    "\n",
    "classifier = DigitClassifier(algorithm='rand')\n",
    "prediction = classifier.predict(image)\n",
    "print(f\"Random Model Prediction: {prediction}\")"
   ]
  },
  {
   "cell_type": "code",
   "execution_count": null,
   "id": "3582077c-32f4-4c3c-8312-5dde51200825",
   "metadata": {},
   "outputs": [],
   "source": []
  }
 ],
 "metadata": {
  "kernelspec": {
   "display_name": "Python 3 (ipykernel)",
   "language": "python",
   "name": "python3"
  },
  "language_info": {
   "codemirror_mode": {
    "name": "ipython",
    "version": 3
   },
   "file_extension": ".py",
   "mimetype": "text/x-python",
   "name": "python",
   "nbconvert_exporter": "python",
   "pygments_lexer": "ipython3",
   "version": "3.9.19"
  }
 },
 "nbformat": 4,
 "nbformat_minor": 5
}
